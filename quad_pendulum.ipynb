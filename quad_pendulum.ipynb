{
 "cells": [
  {
   "cell_type": "code",
   "execution_count": 5,
   "id": "a26f7c57-3549-4311-a80d-58ee65e1485f",
   "metadata": {},
   "outputs": [
    {
     "ename": "AttributeError",
     "evalue": "'pydrake.examples.QuadrotorPlant' object has no attribute 'get_state_output_port'",
     "output_type": "error",
     "traceback": [
      "\u001b[0;31m---------------------------------------------------------------------------\u001b[0m",
      "\u001b[0;31mAttributeError\u001b[0m                            Traceback (most recent call last)",
      "Cell \u001b[0;32mIn[5], line 20\u001b[0m\n\u001b[1;32m     17\u001b[0m \u001b[38;5;66;03m# Add a PID controller\u001b[39;00m\n\u001b[1;32m     18\u001b[0m controller \u001b[38;5;241m=\u001b[39m builder\u001b[38;5;241m.\u001b[39mAddNamedSystem(\u001b[38;5;124m\"\u001b[39m\u001b[38;5;124mcontroller\u001b[39m\u001b[38;5;124m\"\u001b[39m, PidController(kp\u001b[38;5;241m=\u001b[39m[\u001b[38;5;241m10.\u001b[39m], ki\u001b[38;5;241m=\u001b[39m[\u001b[38;5;241m1.\u001b[39m], kd\u001b[38;5;241m=\u001b[39m[\u001b[38;5;241m1.\u001b[39m]))\n\u001b[0;32m---> 20\u001b[0m builder\u001b[38;5;241m.\u001b[39mConnect(\u001b[43mquadrotor\u001b[49m\u001b[38;5;241;43m.\u001b[39;49m\u001b[43mget_state_output_port\u001b[49m(), pendulum\u001b[38;5;241m.\u001b[39mget_state_input_port())\n\u001b[1;32m     22\u001b[0m \u001b[38;5;66;03m# Now \"wire up\" the controller to the plant \u001b[39;00m\n\u001b[1;32m     23\u001b[0m \u001b[38;5;66;03m#builder.Connect(pendulum.get_state_output_port(), \u001b[39;00m\n\u001b[1;32m     24\u001b[0m \u001b[38;5;66;03m#                controller.get_input_port_estimated_state())\u001b[39;00m\n\u001b[0;32m   (...)\u001b[0m\n\u001b[1;32m     28\u001b[0m \u001b[38;5;66;03m#builder.ExportInput(controller.get_input_port_desired_state())\u001b[39;00m\n\u001b[1;32m     29\u001b[0m \u001b[38;5;66;03m# Make the pendulum state an ouput from the diagram \u001b[39;00m\n\u001b[1;32m     30\u001b[0m builder\u001b[38;5;241m.\u001b[39mExportOutput(pendulum\u001b[38;5;241m.\u001b[39mget_state_output_port())\n",
      "\u001b[0;31mAttributeError\u001b[0m: 'pydrake.examples.QuadrotorPlant' object has no attribute 'get_state_output_port'"
     ]
    }
   ],
   "source": [
    "import matplotlib.pyplot as plt \n",
    "import numpy as np \n",
    "import pydot\n",
    "from pydrake.examples import PendulumPlant, QuadrotorPlant, QuadrotorGeometry\n",
    "from pydrake.systems.analysis import Simulator \n",
    "from pydrake.systems.controllers import PidController\n",
    "from pydrake.systems.drawing import plot_system_graphviz\n",
    "from pydrake.systems.framework import DiagramBuilder\n",
    "from pydrake.systems.primitives import LogVectorOutput\n",
    "\n",
    "builder = DiagramBuilder()\n",
    "\n",
    "# First add the pendulum \n",
    "pendulum = builder.AddNamedSystem(\"pendulum\", PendulumPlant())\n",
    "quadrotor = builder.AddNamedSystem(\"quadrotor\", QuadrotorPlant())\n",
    "quadrotor_geom = builder.AddNamedSytem(\"quadrotor_geometry\", QuadrotorGeometry())\n",
    "\n",
    "# Add a PID controller\n",
    "controller = builder.AddNamedSystem(\"controller\", PidController(kp=[10.], ki=[1.], kd=[1.]))\n",
    "\n",
    "builder.Connect(quadrotor.get_state_output_port(), pendulum.get_state_input_port())\n",
    "\n",
    "# Now \"wire up\" the controller to the plant \n",
    "#builder.Connect(pendulum.get_state_output_port(), \n",
    "#                controller.get_input_port_estimated_state())\n",
    "#builder.Connect(controller.get_output_port_control(), pendulum.get_input_port())\n",
    "\n",
    "# Make the desired_state input of the controller an input to the diagram \n",
    "#builder.ExportInput(controller.get_input_port_desired_state())\n",
    "# Make the pendulum state an ouput from the diagram \n",
    "builder.ExportOutput(pendulum.get_state_output_port())\n",
    "\n",
    "# Log the state of the pendulum \n",
    "logger = LogVectorOutput(pendulum.get_state_output_port(), builder)\n",
    "logger.set_name(\"logger\")\n",
    "\n",
    "diagram = builder.Build()\n",
    "diagram.set_name(\"diagram\")\n",
    "\n",
    "# Visualize the diagram\n",
    "plot_system_graphviz(diagram)"
   ]
  },
  {
   "cell_type": "code",
   "execution_count": null,
   "id": "d74f1faa-b6e8-4f75-97f7-52c9161ed9d3",
   "metadata": {},
   "outputs": [],
   "source": []
  }
 ],
 "metadata": {
  "kernelspec": {
   "display_name": "Python 3 (ipykernel)",
   "language": "python",
   "name": "python3"
  },
  "language_info": {
   "codemirror_mode": {
    "name": "ipython",
    "version": 3
   },
   "file_extension": ".py",
   "mimetype": "text/x-python",
   "name": "python",
   "nbconvert_exporter": "python",
   "pygments_lexer": "ipython3",
   "version": "3.8.20"
  }
 },
 "nbformat": 4,
 "nbformat_minor": 5
}
