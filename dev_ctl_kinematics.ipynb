{
 "cells": [
  {
   "cell_type": "code",
   "execution_count": 3,
   "id": "1783a16e-1ae2-4c0a-9a41-9c109318828f",
   "metadata": {},
   "outputs": [
    {
     "name": "stdout",
     "output_type": "stream",
     "text": [
      "Collecting numpy\n",
      "  Using cached numpy-1.24.4-cp38-cp38-manylinux_2_17_x86_64.manylinux2014_x86_64.whl.metadata (5.6 kB)\n",
      "Using cached numpy-1.24.4-cp38-cp38-manylinux_2_17_x86_64.manylinux2014_x86_64.whl (17.3 MB)\n",
      "Installing collected packages: numpy\n",
      "Successfully installed numpy-1.24.4\n"
     ]
    }
   ],
   "source": [
    "!pip3 install numpy\n"
   ]
  },
  {
   "cell_type": "code",
   "execution_count": 4,
   "id": "8faf38c9-e0c5-4015-af35-1921a4bf213e",
   "metadata": {},
   "outputs": [],
   "source": [
    "import numpy as np"
   ]
  },
  {
   "cell_type": "code",
   "execution_count": 5,
   "id": "7ff97317-5eb4-4332-b542-18bb05447a14",
   "metadata": {},
   "outputs": [],
   "source": [
    "def get_RotX(angle): # \n",
    "    \n",
    "    RX = np.array([[1, 0, 0], \n",
    "                   [0, np.cos(angle), -np.sin(angle)], \n",
    "                   [0, np.sin(angle), np.cos(angle)]])    \n",
    "    return RX\n",
    "\n",
    "def get_RotY(angle): \n",
    "    \n",
    "    RY = np.array([[np.cos(angle), 0, np.sin(angle)], \n",
    "                   [0, 1, 0], \n",
    "                   [-np.sin(angle), 0, np.cos(angle)]])\n",
    "    return RY\n",
    "    \n",
    "def get_RotZ(angle): \n",
    "    \n",
    "    RZ = np.array([[np.cos(angle), -np.sin(angle), 0],\n",
    "                   [np.sin(angle), np.cos(angle), 0], \n",
    "                   [ 0, 0, 1]] )\n",
    "    return RZ"
   ]
  },
  {
   "cell_type": "code",
   "execution_count": 25,
   "id": "87547806-c0e5-4511-accf-f8876a64e00c",
   "metadata": {},
   "outputs": [
    {
     "name": "stdout",
     "output_type": "stream",
     "text": [
      "(3, 1)\n",
      "[[ 0.    0.    1.   -0.04]\n",
      " [ 1.    0.   -0.    0.  ]\n",
      " [-0.    1.    0.    0.46]\n",
      " [ 0.    0.    0.    1.  ]]\n"
     ]
    }
   ],
   "source": [
    "bRc = np.matmul(get_RotX(np.pi/2), get_RotY(np.pi/2))\n",
    "cdt = np.array([-0.04, 0.00, 0.46]).reshape(3,1)\n",
    "\n",
    "print(cdt.shape)\n",
    "T_ = np.matrix(np.hstack((bRc, cdt)))\n",
    "T_init = np.matrix(np.vstack((T_, np.array([0, 0, 0, 1])))).round(5)\n",
    "print(T_init)"
   ]
  },
  {
   "cell_type": "code",
   "execution_count": 24,
   "id": "5f2f3703-2b20-4800-ae3f-e773b58f6689",
   "metadata": {},
   "outputs": [
    {
     "data": {
      "text/plain": [
       "matrix([[ 2.84,  3.8 , -2.84, -3.8 ],\n",
       "        [ 1.  ,  2.  , -1.  , -2.  ],\n",
       "        [ 3.84,  5.3 , -3.84, -5.3 ],\n",
       "        [ 4.  ,  5.  , -4.  , -5.  ]])"
      ]
     },
     "execution_count": 24,
     "metadata": {},
     "output_type": "execute_result"
    }
   ],
   "source": [
    "p0 = np.array([1, 2, 3, 4]).reshape(4, 1)\n",
    "p1 = np.array([2, 3, 4, 5]).reshape(4, 1) \n",
    "\n",
    "np.matmul(T_init, [p0, p1, -p0, -p1]).T"
   ]
  },
  {
   "cell_type": "code",
   "execution_count": null,
   "id": "9e30daa5-f06a-4c05-8c52-8fd30f017129",
   "metadata": {},
   "outputs": [],
   "source": []
  }
 ],
 "metadata": {
  "kernelspec": {
   "display_name": "Python 3 (ipykernel)",
   "language": "python",
   "name": "python3"
  },
  "language_info": {
   "codemirror_mode": {
    "name": "ipython",
    "version": 3
   },
   "file_extension": ".py",
   "mimetype": "text/x-python",
   "name": "python",
   "nbconvert_exporter": "python",
   "pygments_lexer": "ipython3",
   "version": "3.8.20"
  }
 },
 "nbformat": 4,
 "nbformat_minor": 5
}
